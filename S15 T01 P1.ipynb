{
 "cells": [
  {
   "cell_type": "markdown",
   "id": "d8a3a070",
   "metadata": {},
   "source": [
    "# Sprint 15, Task 1\n",
    "\n",
    "## Level 1\n",
    "\n",
    "### Exercise 1\n",
    "\n",
    "Classify the different flights using the K-means algorithm:"
   ]
  },
  {
   "cell_type": "code",
   "execution_count": 1,
   "id": "cc479567",
   "metadata": {
    "ExecuteTime": {
     "end_time": "2021-07-24T17:36:48.321134Z",
     "start_time": "2021-07-24T17:36:43.888913Z"
    }
   },
   "outputs": [],
   "source": [
    "# Import useful libraries:\n",
    "\n",
    "import pandas as pd\n",
    "import matplotlib.pyplot as plt\n",
    "import numpy as np\n",
    "\n",
    "import sklearn\n",
    "from sklearn.preprocessing import MinMaxScaler\n",
    "from sklearn.decomposition import PCA\n",
    "from sklearn.cluster import KMeans\n",
    "from sklearn.metrics import silhouette_score\n",
    "\n",
    "from kneed import KneeLocator"
   ]
  },
  {
   "cell_type": "code",
   "execution_count": 2,
   "id": "43678973",
   "metadata": {
    "ExecuteTime": {
     "end_time": "2021-07-24T17:36:56.163847Z",
     "start_time": "2021-07-24T17:36:48.332442Z"
    }
   },
   "outputs": [],
   "source": [
    "# Open Dataset:\n",
    "\n",
    "dades = pd.read_csv(\"../Sprint 11/DelayedFlights.csv\")\n",
    "\n",
    "# Feature filtering: first we eliminate columns that do not tell us much information about flight delays\n",
    "\n",
    "dades.drop(columns=[\"Unnamed: 0\", \"Year\", \"FlightNum\", \"TailNum\", \"Cancelled\", \"CancellationCode\"], inplace=True)\n",
    "\n",
    "# Since we are going to use PCA, we only want continous numerical values, which will gave maximum explanation potential\n",
    "\n",
    "# Then we filter out variables that are not continuous numerical:\n",
    "\n",
    "dades.drop(columns=[\"Month\", \"DayofMonth\", \"DayOfWeek\", \"UniqueCarrier\", \"Origin\", \"Dest\", \"Diverted\"], inplace=True)\n"
   ]
  },
  {
   "cell_type": "code",
   "execution_count": 3,
   "id": "33013c83",
   "metadata": {
    "ExecuteTime": {
     "end_time": "2021-07-24T17:36:56.173271Z",
     "start_time": "2021-07-24T17:36:56.169161Z"
    }
   },
   "outputs": [],
   "source": [
    "##################################################################################################################\n",
    "###################################### FILLING IN NULL VALUES ####################################################"
   ]
  },
  {
   "cell_type": "code",
   "execution_count": 4,
   "id": "6658e2a4",
   "metadata": {
    "ExecuteTime": {
     "end_time": "2021-07-24T17:36:56.244699Z",
     "start_time": "2021-07-24T17:36:56.180101Z"
    }
   },
   "outputs": [],
   "source": [
    "# Arrival Delay: NaN cases filled with Departure Delay value\n",
    "\n",
    "dades[\"ArrDelay\"].fillna(dades[\"DepDelay\"], inplace = True)\n",
    "\n",
    "# Arrival Time: NaN cases filled with Scheduled Arrival Time + Arrival Delay\n",
    "\n",
    "foo = dades[\"CRSArrTime\"] + dades[\"ArrDelay\"]\n",
    "\n",
    "dades[\"ArrTime\"].fillna(foo, inplace = True)           \n"
   ]
  },
  {
   "cell_type": "code",
   "execution_count": 5,
   "id": "35396a49",
   "metadata": {
    "ExecuteTime": {
     "end_time": "2021-07-24T17:36:56.495887Z",
     "start_time": "2021-07-24T17:36:56.247332Z"
    }
   },
   "outputs": [],
   "source": [
    "# Scheduled Elapsed Time: NaN values filled with Scheduled Arrival Time - Scheduled Departure Time\n",
    "\n",
    "    # Function that will calculate new value:\n",
    "    \n",
    "def calc_time(first, second):\n",
    "    result = first - second\n",
    "    for i in result:\n",
    "        if i < 0:\n",
    "            i =+ 2400\n",
    "    return result\n",
    "\n",
    "dades[\"CRSElapsedTime\"].fillna(calc_time(dades[\"CRSArrTime\"], dades[\"CRSDepTime\"]), inplace=True)\n",
    "\n",
    "# Actual Elapsed Time: NaN values filled with Scheduled Elapsed Time + Arrival Delay\n",
    "\n",
    "calculate = dades[\"CRSElapsedTime\"] + dades[\"ArrDelay\"]\n",
    "\n",
    "dades[\"ActualElapsedTime\"].fillna(calculate, inplace=True)\n"
   ]
  },
  {
   "cell_type": "code",
   "execution_count": 6,
   "id": "5b1d6495",
   "metadata": {
    "ExecuteTime": {
     "end_time": "2021-07-24T17:36:56.542542Z",
     "start_time": "2021-07-24T17:36:56.498187Z"
    }
   },
   "outputs": [],
   "source": [
    "# Taxi In and Out: NaN values filled in with column mean\n",
    "\n",
    "dades[\"TaxiIn\"].fillna(dades[\"TaxiIn\"].mean(), inplace=True)\n",
    "\n",
    "dades[\"TaxiOut\"].fillna(dades[\"TaxiOut\"].mean(), inplace=True)\n",
    "\n",
    "# Air Time: NaN values filled with Actual Elapsed Time - Taxi Time\n",
    "\n",
    "fum = dades[\"ActualElapsedTime\"] - dades[\"TaxiIn\"] - dades[\"TaxiOut\"]\n",
    "\n",
    "dades[\"AirTime\"].fillna(fum, inplace=True)"
   ]
  },
  {
   "cell_type": "code",
   "execution_count": 7,
   "id": "8c9dba9f",
   "metadata": {
    "ExecuteTime": {
     "end_time": "2021-07-24T17:36:56.635685Z",
     "start_time": "2021-07-24T17:36:56.546799Z"
    }
   },
   "outputs": [],
   "source": [
    "# Specific reasons for Delay: filled in with 0\n",
    "\n",
    "dades[\"CarrierDelay\"].fillna(0, inplace=True)\n",
    "\n",
    "dades[\"WeatherDelay\"].fillna(0, inplace=True)\n",
    "\n",
    "dades[\"NASDelay\"].fillna(0, inplace=True)\n",
    "\n",
    "dades[\"SecurityDelay\"].fillna(0, inplace=True)\n",
    "\n",
    "dades[\"LateAircraftDelay\"].fillna(0, inplace=True)"
   ]
  },
  {
   "cell_type": "code",
   "execution_count": 8,
   "id": "2774643a",
   "metadata": {
    "ExecuteTime": {
     "end_time": "2021-07-24T17:36:56.713008Z",
     "start_time": "2021-07-24T17:36:56.640956Z"
    }
   },
   "outputs": [
    {
     "data": {
      "text/plain": [
       "DepTime              0\n",
       "CRSDepTime           0\n",
       "ArrTime              0\n",
       "CRSArrTime           0\n",
       "ActualElapsedTime    0\n",
       "CRSElapsedTime       0\n",
       "AirTime              0\n",
       "ArrDelay             0\n",
       "DepDelay             0\n",
       "Distance             0\n",
       "TaxiIn               0\n",
       "TaxiOut              0\n",
       "CarrierDelay         0\n",
       "WeatherDelay         0\n",
       "NASDelay             0\n",
       "SecurityDelay        0\n",
       "LateAircraftDelay    0\n",
       "dtype: int64"
      ]
     },
     "execution_count": 8,
     "metadata": {},
     "output_type": "execute_result"
    }
   ],
   "source": [
    "dades.isnull().sum()"
   ]
  },
  {
   "cell_type": "code",
   "execution_count": 9,
   "id": "965ba6fb",
   "metadata": {
    "ExecuteTime": {
     "end_time": "2021-07-24T17:36:57.532045Z",
     "start_time": "2021-07-24T17:36:56.717585Z"
    }
   },
   "outputs": [],
   "source": [
    "# Scale from 0 to 1:\n",
    "\n",
    "scaler = MinMaxScaler()\n",
    "\n",
    "scaled_df = scaler.fit_transform(dades)\n",
    "\n",
    "scaled_df = pd.DataFrame(scaled_df)"
   ]
  },
  {
   "cell_type": "code",
   "execution_count": 10,
   "id": "5e97b19b",
   "metadata": {
    "ExecuteTime": {
     "end_time": "2021-07-24T17:37:03.936858Z",
     "start_time": "2021-07-24T17:36:57.534503Z"
    }
   },
   "outputs": [],
   "source": [
    "# PCA transformation to 2 elements:\n",
    "\n",
    "pca = PCA(n_components=2)\n",
    "\n",
    "principalComponents = pca.fit_transform(scaled_df)\n",
    "\n",
    "new_df = pd.DataFrame(data = principalComponents)"
   ]
  },
  {
   "cell_type": "code",
   "execution_count": 11,
   "id": "5ca06814",
   "metadata": {
    "ExecuteTime": {
     "end_time": "2021-07-24T17:37:06.032015Z",
     "start_time": "2021-07-24T17:37:03.939384Z"
    }
   },
   "outputs": [
    {
     "data": {
      "text/plain": [
       "<matplotlib.collections.PathCollection at 0x7faa4f06cfa0>"
      ]
     },
     "execution_count": 11,
     "metadata": {},
     "output_type": "execute_result"
    },
    {
     "data": {
      "image/png": "[encoded data removed]",
      "text/plain": [
       "<Figure size 432x288 with 1 Axes>"
      ]
     },
     "metadata": {
      "needs_background": "light"
     },
     "output_type": "display_data"
    }
   ],
   "source": [
    "# See scatterplot after PCA transformation: \n",
    "\n",
    "plt.scatter(new_df[0], new_df[1])"
   ]
  },
  {
   "cell_type": "code",
   "execution_count": 12,
   "id": "4f5f8767",
   "metadata": {
    "ExecuteTime": {
     "end_time": "2021-07-24T17:37:28.496599Z",
     "start_time": "2021-07-24T17:37:06.046136Z"
    }
   },
   "outputs": [],
   "source": [
    "# K-means algorithm: set hyperparameters, fit and predict; intuitively choose 6 clusters given scatterplot shape\n",
    "\n",
    "kmeans = KMeans(init=\"random\", n_clusters=6, random_state=59)\n",
    "\n",
    "labels = kmeans.fit_predict(new_df)"
   ]
  },
  {
   "cell_type": "code",
   "execution_count": 13,
   "id": "facc18a0",
   "metadata": {
    "ExecuteTime": {
     "end_time": "2021-07-24T17:37:31.262345Z",
     "start_time": "2021-07-24T17:37:28.499383Z"
    }
   },
   "outputs": [
    {
     "data": {
      "image/png": "[encoded data removed]",
      "text/plain": [
       "<Figure size 432x288 with 1 Axes>"
      ]
     },
     "metadata": {
      "needs_background": "light"
     },
     "output_type": "display_data"
    }
   ],
   "source": [
    "# Getting array with labels:\n",
    " \n",
    "u_labels = np.unique(labels)\n",
    " \n",
    "# Then plotting the results:\n",
    " \n",
    "for i in u_labels:\n",
    "    filtered_label = new_df[labels == i]\n",
    "    plt.scatter(filtered_label[0] , filtered_label[1])\n",
    "\n",
    "# It seems to have found groups on the extremities of the figure (top, right and left), but the central groupings\n",
    "# look unintuitive. In fact, when changing the number of centroids those clusters remain (conceptually) unchanged."
   ]
  },
  {
   "cell_type": "code",
   "execution_count": 14,
   "id": "c21ab4ba",
   "metadata": {
    "ExecuteTime": {
     "end_time": "2021-07-24T17:37:31.282860Z",
     "start_time": "2021-07-24T17:37:31.265888Z"
    }
   },
   "outputs": [],
   "source": [
    "# Silhouette has not been applied because of its high computational burden; we will try elbow method instead"
   ]
  },
  {
   "cell_type": "code",
   "execution_count": 15,
   "id": "db103eac",
   "metadata": {
    "ExecuteTime": {
     "end_time": "2021-07-24T17:41:38.054518Z",
     "start_time": "2021-07-24T17:37:31.287912Z"
    }
   },
   "outputs": [],
   "source": [
    "# Elbow method calculations:\n",
    "\n",
    "sse = []\n",
    "\n",
    "for k in range(1, 11):\n",
    "    kmeans = KMeans(n_clusters=k, max_iter= 300, random_state= 88)\n",
    "    kmeans.fit(new_df)\n",
    "    sse.append(kmeans.inertia_)"
   ]
  },
  {
   "cell_type": "code",
   "execution_count": 16,
   "id": "73a00af0",
   "metadata": {
    "ExecuteTime": {
     "end_time": "2021-07-24T17:41:38.272824Z",
     "start_time": "2021-07-24T17:41:38.057150Z"
    }
   },
   "outputs": [
    {
     "data": {
      "image/png": "[encoded data removed]",
      "text/plain": [
       "<Figure size 432x288 with 1 Axes>"
      ]
     },
     "metadata": {},
     "output_type": "display_data"
    }
   ],
   "source": [
    "# Plot results:\n",
    "\n",
    "plt.style.use(\"fivethirtyeight\")\n",
    "plt.plot(range(1, 11), sse)\n",
    "plt.xticks(range(1, 11))\n",
    "plt.xlabel(\"Number of Clusters\")\n",
    "plt.ylabel(\"SSE\")\n",
    "plt.show()\n",
    "\n",
    "# Elbow method shows 2 or 4 might be the best result. Let us use Knee Locator instead for a clearer insight"
   ]
  },
  {
   "cell_type": "code",
   "execution_count": 17,
   "id": "579dec37",
   "metadata": {
    "ExecuteTime": {
     "end_time": "2021-07-24T17:41:38.291792Z",
     "start_time": "2021-07-24T17:41:38.276766Z"
    }
   },
   "outputs": [
    {
     "data": {
      "text/plain": [
       "4"
      ]
     },
     "execution_count": 17,
     "metadata": {},
     "output_type": "execute_result"
    }
   ],
   "source": [
    "kl = KneeLocator(range(1, 11), sse, curve=\"convex\", direction=\"decreasing\")\n",
    "\n",
    "kl.elbow\n",
    "\n",
    "# 4 is the best number of clusters"
   ]
  },
  {
   "cell_type": "code",
   "execution_count": 18,
   "id": "55ecd965",
   "metadata": {
    "ExecuteTime": {
     "end_time": "2021-07-24T17:41:52.207385Z",
     "start_time": "2021-07-24T17:41:38.296504Z"
    }
   },
   "outputs": [],
   "source": [
    "# Now running with 4 clusters:\n",
    "\n",
    "kmeans = KMeans(init=\"random\", n_clusters=4, random_state=14)\n",
    "\n",
    "labels = kmeans.fit_predict(new_df)"
   ]
  },
  {
   "cell_type": "code",
   "execution_count": 19,
   "id": "cdb976ca",
   "metadata": {
    "ExecuteTime": {
     "end_time": "2021-07-24T17:41:54.574062Z",
     "start_time": "2021-07-24T17:41:52.210323Z"
    }
   },
   "outputs": [
    {
     "data": {
      "image/png": "[encoded data removed]",
      "text/plain": [
       "<Figure size 432x288 with 1 Axes>"
      ]
     },
     "metadata": {},
     "output_type": "display_data"
    }
   ],
   "source": [
    "# Now we plot:\n",
    "\n",
    "u_labels = np.unique(labels)\n",
    " \n",
    "for i in u_labels:\n",
    "    filtered_label = new_df[labels == i]\n",
    "    plt.scatter(filtered_label[0] , filtered_label[1])\n",
    "    \n",
    "# It looks fundamentally better in theoretical terms than 6 clusters model"
   ]
  },
  {
   "cell_type": "code",
   "execution_count": 20,
   "id": "d046a684",
   "metadata": {
    "ExecuteTime": {
     "end_time": "2021-07-24T17:41:54.581919Z",
     "start_time": "2021-07-24T17:41:54.576196Z"
    }
   },
   "outputs": [],
   "source": [
    "# For the continuation of the exercise, see S15 T01 P2"
   ]
  },
  {
   "cell_type": "code",
   "execution_count": 21,
   "id": "8c345703",
   "metadata": {
    "ExecuteTime": {
     "end_time": "2021-07-24T17:41:54.594015Z",
     "start_time": "2021-07-24T17:41:54.585298Z"
    }
   },
   "outputs": [],
   "source": [
    "###################################################################################################################"
   ]
  }
 ],
 "metadata": {
  "kernelspec": {
   "display_name": "Python 3",
   "language": "python",
   "name": "python3"
  },
  "language_info": {
   "codemirror_mode": {
    "name": "ipython",
    "version": 3
   },
   "file_extension": ".py",
   "mimetype": "text/x-python",
   "name": "python",
   "nbconvert_exporter": "python",
   "pygments_lexer": "ipython3",
   "version": "3.8.8"
  },
  "varInspector": {
   "cols": {
    "lenName": 16,
    "lenType": 16,
    "lenVar": 40
   },
   "kernels_config": {
    "python": {
     "delete_cmd_postfix": "",
     "delete_cmd_prefix": "del ",
     "library": "var_list.py",
     "varRefreshCmd": "print(var_dic_list())"
    },
    "r": {
     "delete_cmd_postfix": ") ",
     "delete_cmd_prefix": "rm(",
     "library": "var_list.r",
     "varRefreshCmd": "cat(var_dic_list()) "
    }
   },
   "types_to_exclude": [
    "module",
    "function",
    "builtin_function_or_method",
    "instance",
    "_Feature"
   ],
   "window_display": false
  }
 },
 "nbformat": 4,
 "nbformat_minor": 5
}
